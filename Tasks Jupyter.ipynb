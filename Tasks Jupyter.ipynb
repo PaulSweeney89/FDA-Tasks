{
 "cells": [
  {
   "cell_type": "markdown",
   "metadata": {},
   "source": [
    "#  TASK 1 - COUNTS\n",
    "***\n",
    "\n",
    "**October 5th, 2020:** \n",
    "\n",
    "Objective:\n",
    "\n",
    "Write a Python function called **counts** that takes a list as an input and returns a dictionary with the unique items of the input list as keys of the dictionary with the number of times each item appears as values. \n",
    "\n",
    "Example:\n",
    "\n",
    "`Input list = ['A', 'A', 'B', 'C', 'A']`\n",
    "\n",
    "`Output Dictonary = {'A': 3, 'B': 1, 'C': 1}`\n",
    "\n",
    "<img src=\"https://github.com/PaulSweeney89/FDA-Tasks/blob/main/Images/Count%20von%20Count.jpeg?raw=true\" width=\"250\"/>\n",
    "\n",
    "***"
   ]
  },
  {
   "cell_type": "code",
   "execution_count": 2,
   "metadata": {},
   "outputs": [],
   "source": [
    "# Import Libraries to use within Jupyter Notebook.\n",
    "\n",
    "import random\n",
    "import numpy as np\n",
    "import pandas as pd\n",
    "import seaborn as sns\n",
    "import matplotlib.pyplot as plt\n",
    "import math "
   ]
  },
  {
   "cell_type": "markdown",
   "metadata": {},
   "source": [
    "## 1.1 Test Code\n",
    "\n",
    "Initial testing of various lines of code as a means to experiement & develop the main program function."
   ]
  },
  {
   "cell_type": "code",
   "execution_count": 2,
   "metadata": {},
   "outputs": [],
   "source": [
    "# Initiate with a list constisting of a number of various strings - see note 1 below\n",
    "l = ['A', 'A', 'B', 'C', 'A']"
   ]
  },
  {
   "cell_type": "markdown",
   "metadata": {},
   "source": [
    "Lists in code blocks below commented out, remove comment # in order to check list with for loop below."
   ]
  },
  {
   "cell_type": "code",
   "execution_count": 3,
   "metadata": {},
   "outputs": [],
   "source": [
    "# try with a list including various strings, intergers & floating numbers - see note 2 below\n",
    "# l= ['$', 5, -5, '$', 'Test', 'Test', -5, 0.35, 0.35,] "
   ]
  },
  {
   "cell_type": "code",
   "execution_count": 4,
   "metadata": {},
   "outputs": [],
   "source": [
    "# list to be nestled with a list - see note 4 below\n",
    "# l1 = ['???','???', 'nestled']"
   ]
  },
  {
   "cell_type": "code",
   "execution_count": 5,
   "metadata": {},
   "outputs": [],
   "source": [
    "# a list nestled within the list - see note 4 below\n",
    "# l = ['F', '7', l1]\n",
    "# print(l)\n",
    "# print(type(l[0]))\n",
    "# print(type(l[1]))\n",
    "# print(type(l[2]))"
   ]
  },
  {
   "cell_type": "code",
   "execution_count": 6,
   "metadata": {},
   "outputs": [],
   "source": [
    "# Provide a empty dictionary to be populated with the values of the list\n",
    "d = {}"
   ]
  },
  {
   "cell_type": "code",
   "execution_count": 7,
   "metadata": {},
   "outputs": [
    {
     "name": "stdout",
     "output_type": "stream",
     "text": [
      "{'A': 3, 'B': 1, 'C': 1}\n"
     ]
    }
   ],
   "source": [
    "for value in range(0, len(l)):        # loop through all the values within in the input list                                     \n",
    "    x = l[value]                      # define x as a value in the list   \n",
    "                                                                               \n",
    "    if x in d:                         # if the list value (x) from the list is a key in the dictionary (d)\n",
    "        d[x] += 1                      # add 1 to the key value in the dictionary \n",
    "      \n",
    "    else:                              # else add the list value (x) as a key with value = 1         \n",
    "        d[x] = 1\n",
    "print(d)"
   ]
  },
  {
   "cell_type": "markdown",
   "metadata": {},
   "source": [
    "**Note 1:** The above test code succesfully takes the string values from the input list and outputs as a dictionary and counts the number of times each string value appear in the list.\n",
    "\n",
    "**Note 2:** After success with testing a list containing only string type values, the code was re-run with a second list containing strings, intergers & floating numbers. The test code also worked in this instance. \n",
    "\n",
    "**Note 3:** The jupyter notebook line order number (In) will determine which of the input lists will be used into the test code.\n",
    "\n",
    "**Note 4:** The test code does not works when the input list contains a nested list with, i.e list `l1`. \n",
    "\n",
    "Looking at the data types within the list it can been seen that the nested list `l1` remains as a 'list' type and therefore is not compatiable with the dictionary & counting approach developed.     "
   ]
  },
  {
   "cell_type": "markdown",
   "metadata": {},
   "source": [
    "##  1.2 Nested List Within a List - 'Flatten the List'\n",
    "\n",
    "In the below code I have made an hatchet attempt to 'flatten' out a list that contains within it another list or a nested list to possibly resolve the issue highlighted above in note 4.\n",
    "\n",
    "The nested list was identifed by looking at the element types within the list using the **isinstance()** function [1],[2] \n",
    "\n",
    "The **list.pop()** function was used to remove the nested list from the main list [3]\n",
    "\n",
    "The nested list was then merged with the main list [4], the final merged list then therefore only contained intergers, strings or floats.\n",
    "\n",
    "This attempt at 'flattening out' a list containing a nested list seems quite cumbersome and not a very efficent means to extract and re-merge a nested list, so I did not develop this means any further."
   ]
  },
  {
   "cell_type": "code",
   "execution_count": 8,
   "metadata": {},
   "outputs": [
    {
     "name": "stdout",
     "output_type": "stream",
     "text": [
      "[6, 'A', 5, 5.5, 5]\n",
      "<class 'int'>\n",
      "<class 'str'>\n",
      "<class 'int'>\n",
      "<class 'float'>\n",
      "<class 'int'>\n"
     ]
    }
   ],
   "source": [
    "l2 = [5, 5.5, 5]\n",
    "l3 = [6, 'A', l2]\n",
    "\n",
    "for val in range(0, len(l3)):\n",
    "    y = l3[val]\n",
    "    \n",
    "    if isinstance(y, list):\n",
    "        lremove = l3.pop(val)\n",
    "        lmerge = l3 + y\n",
    "        \n",
    "print(lmerge)\n",
    "    \n",
    "for val in range(0, len(lmerge)):\n",
    "    print(type(lmerge[val]))"
   ]
  },
  {
   "cell_type": "markdown",
   "metadata": {},
   "source": [
    "## 1.3 Nested Lists - Continued\n",
    "\n",
    "Following on from the above attempt at 'flattening the list', I came across the below function taken  directly from an article at thispointer.com [6] which makes use of the **list.extend()** and **list.append()** functions to effectively 'flatten' nested lists within a list.\n",
    "\n",
    "This is a much more efficent & simplier approach to use, rather than attempting to use the **list.pop()** and list merge functions I had attempted in the above code."
   ]
  },
  {
   "cell_type": "code",
   "execution_count": 9,
   "metadata": {},
   "outputs": [],
   "source": [
    "def flattenNestedList(nestedList):\n",
    "    ''' Converts a nested list to a flat list\n",
    "        thispointer.com\n",
    "    '''\n",
    "    \n",
    "    flatList = []\n",
    "    # Iterate over all the elements in given list\n",
    "    for elem in nestedList:\n",
    "        # Check if type of element is list\n",
    "        if isinstance(elem, list):\n",
    "            # Extend the flat list by adding contents of this element (list)\n",
    "            flatList.extend(flattenNestedList(elem))\n",
    "            \n",
    "        # Additional check if type of element is tuple (not in original code from thispointer.com)    \n",
    "        elif isinstance(elem, tuple):\n",
    "            # change tuple type to list type\n",
    "            tuple2list = list(elem)\n",
    "            # merge back into list\n",
    "            flatList = flatList + tuple2list\n",
    "            \n",
    "        else:\n",
    "            # Append the elemengt to the list\n",
    "            flatList.append(elem)    \n",
    "    return flatList"
   ]
  },
  {
   "cell_type": "code",
   "execution_count": 10,
   "metadata": {},
   "outputs": [
    {
     "data": {
      "text/plain": [
       "['a', 'a', 2, 2]"
      ]
     },
     "execution_count": 10,
     "metadata": {},
     "output_type": "execute_result"
    }
   ],
   "source": [
    "# list to check the above function\n",
    "l4 = ['a', 'a', [2,2]]\n",
    "flattenNestedList(l4)"
   ]
  },
  {
   "cell_type": "code",
   "execution_count": 11,
   "metadata": {},
   "outputs": [
    {
     "name": "stdout",
     "output_type": "stream",
     "text": [
      "['a', 'a', 2, 2]\n"
     ]
    }
   ],
   "source": [
    "# list to check above function containing a tuple\n",
    "l5 = ['a', 'a', (2,2)]\n",
    "print(flattenNestedList(l5))"
   ]
  },
  {
   "cell_type": "markdown",
   "metadata": {},
   "source": [
    "**Note:** the original function taken from thispointer.com [6] above did not include the means to check & merge a tuple contained within the list, i.e list `l5`\n",
    "\n",
    "However by including the addition **elif** statement into the function definition above, the list will also be checked for containing any tuples and the tuples are easily converted to a list and re-merged back into the list.\n",
    "```\n",
    "        elif isinstance(elem, tuple):\n",
    "            tuple2list = list(elem)\n",
    "            flatList = flatList + tuple2list\n",
    "```"
   ]
  },
  {
   "cell_type": "markdown",
   "metadata": {},
   "source": [
    "## 1.4 Counts Function\n",
    "\n",
    "Using the code & function developed above and defining it as the **counts** function, to complete the objective of the task."
   ]
  },
  {
   "cell_type": "code",
   "execution_count": 12,
   "metadata": {},
   "outputs": [],
   "source": [
    "def counts(l):\n",
    "    \"\"\"\n",
    "    function counts the number of values in a input list \n",
    "    and returns the result as a dictionary\n",
    "    \"\"\"    \n",
    "    d = {}\n",
    "    \n",
    "    # incorporting the flattenNestedlist() function. \n",
    "    l = flattenNestedList(l)\n",
    "    \n",
    "    for value in range(0, len(l)):\n",
    "        x = l[value]\n",
    "        if x in d:\n",
    "            d[x] += 1\n",
    "        else:\n",
    "            d[x] = 1\n",
    "    return(d)"
   ]
  },
  {
   "cell_type": "code",
   "execution_count": 13,
   "metadata": {},
   "outputs": [
    {
     "data": {
      "text/plain": [
       "{'A': 4, 'B': 1, 'c': 1, 1: 1, 2: 3, 3.5: 3, 'D': 2}"
      ]
     },
     "execution_count": 13,
     "metadata": {},
     "output_type": "execute_result"
    }
   ],
   "source": [
    "# a list containing strings, intergers, floats, nested lists & tuples.\n",
    "l6 = ['A', 'A', 'B', 'c', 1, 2 , 3.5, ['A', 'A'], [2, 2], ('D', 'D'), (3.5, 3.5)]\n",
    "counts(l6)"
   ]
  },
  {
   "cell_type": "code",
   "execution_count": 14,
   "metadata": {},
   "outputs": [
    {
     "data": {
      "text/plain": [
       "{'A': 2, 'B': 2}"
      ]
     },
     "execution_count": 14,
     "metadata": {},
     "output_type": "execute_result"
    }
   ],
   "source": [
    "# a list containing nested tuple within a nested list\n",
    "l7 = ['A', ['A', ('B', 'B')]]\n",
    "counts(l7)"
   ]
  },
  {
   "cell_type": "markdown",
   "metadata": {},
   "source": [
    "## 1.5 Conclusion\n",
    "\n",
    "The ***counts()*** function developed is capable of taking in a list containing strings, intergers, floats and outputing the list as a dictionary, counting the number of times the value occurs within the list.\n",
    "\n",
    "By incorporting the the **flattenNestedList()**, the **counts()** function will also work when a list contains, nested lists or tuples.  \n",
    "\n",
    "One item of significance I gained from undetaking this task is the importance of naming conventions for variables. initially in the test code I used the name 'list' as the variable for the input list. \n",
    "I later found this to cause issues when looking at boolean statements for data types, i.e `if type(x) == list`. \n",
    "I then changed the variable name from 'list' to 'l' to avoid this issue, while jupyter had highlighted this by changing the colour of the named variable 'list', but at the time I did not give any thoughts to the significance of this.  "
   ]
  },
  {
   "cell_type": "markdown",
   "metadata": {},
   "source": [
    "## 1.6 References for Task 1:\n",
    "\n",
    "[1] Python|type() function, [geeksforgeeks.org](https://www.geeksforgeeks.org/python-type-function/)\n",
    "\n",
    "[2] Checking if type == list, [Stackoverflow.com](https://stackoverflow.com/a/26544117) \n",
    "\n",
    "[3] Python List pop function, [programiz.com](https://www.programiz.com/python-programming/methods/list/pop) \n",
    "\n",
    "[4] Merging Lists, [thispointer.com](https://www.programiz.com/python-programming/methods/list/pop) \n",
    "\n",
    "[5] 10 ways to convert lists to dictionaries, [medium.com](https://medium.com/better-programming/10-ways-to-convert-lists-to-dictionaries-in-python-d2c728d2aeb8)\n",
    "\n",
    "[6] Convert list of lists, [thispointer.com](https://thispointer.com/python-convert-list-of-lists-or-nested-list-to-flat-list/)\n",
    "    \n",
    "- - -"
   ]
  },
  {
   "cell_type": "markdown",
   "metadata": {},
   "source": [
    "<br>\n",
    "\n",
    "#  TASK 2 - DiceRolls\n",
    "***\n",
    "\n",
    "**November 2nd, 2020:** \n",
    "\n",
    "Objective:\n",
    "\n",
    "Write a Python function called **dicerolls** that simulates rolling dice. The function should take two parameters: the number of dice $k$ and the number of times to roll the dice $n$. The function should simulate randomly rolling $k$ dice $n$ times, keeping track of each total face value. It should then return a dictionary with the number of times each possible total face value occurred.\n",
    "\n",
    "Example:\n",
    "\n",
    "`diceroll(k=2, n=1000)`\n",
    "\n",
    "`output dictionary = {2:19,3:50,4:82,5:112,6:135,7:174,8:133,9:114,10:75,11:70,12:36}`\n",
    "\n",
    "<img src=\"https://github.com/PaulSweeney89/FDA-Tasks/blob/main/Images/Dice.png?raw=true\" width=\"250\"/>\n",
    "\n",
    "***"
   ]
  },
  {
   "cell_type": "markdown",
   "metadata": {},
   "source": [
    "## 2.1 Test Code\n",
    "\n",
    "Initial testing of various lines of code as a means to experiement & develop the main program function."
   ]
  },
  {
   "cell_type": "code",
   "execution_count": 15,
   "metadata": {
    "scrolled": true
   },
   "outputs": [
    {
     "name": "stdout",
     "output_type": "stream",
     "text": [
      "2\n"
     ]
    }
   ],
   "source": [
    "# Generate random number between 1 & 6 to simulate a roll of a dice\n",
    "ran = random.randint(1,6)\n",
    "print(ran)"
   ]
  },
  {
   "cell_type": "markdown",
   "metadata": {},
   "source": [
    "Using the python random module to generate a random interger number from 1 to 6, replicating the roll of a dice."
   ]
  },
  {
   "cell_type": "code",
   "execution_count": 16,
   "metadata": {},
   "outputs": [
    {
     "name": "stdout",
     "output_type": "stream",
     "text": [
      "[6, 1, 4, 1, 2]\n"
     ]
    }
   ],
   "source": [
    "# Generate a single random number for n number of rolls\n",
    "n = 5\n",
    "l = [] \n",
    "for i in range(0,n):\n",
    "    l.append(random.randint(1,6))\n",
    "        \n",
    "print(l)"
   ]
  },
  {
   "cell_type": "markdown",
   "metadata": {},
   "source": [
    "Using a for loop to generate a random number for n number of rolls, the random numbers generated is outputted as a list."
   ]
  },
  {
   "cell_type": "code",
   "execution_count": 17,
   "metadata": {},
   "outputs": [
    {
     "name": "stdout",
     "output_type": "stream",
     "text": [
      "[4, 2]\n",
      "6\n"
     ]
    }
   ],
   "source": [
    "# Generate a random number for k number of diced rolled \n",
    "k = 2\n",
    "d = []\n",
    "for x in range(0,k):\n",
    "    d.append(random.randint(1,6))\n",
    "\n",
    "print(d)\n",
    "print(sum(d))"
   ]
  },
  {
   "cell_type": "markdown",
   "metadata": {},
   "source": [
    "Using a second for loop to generate k number of random numbers, the sum of the value of random numbers is calculated replicating the roll of one or more dice at a time."
   ]
  },
  {
   "cell_type": "markdown",
   "metadata": {},
   "source": [
    "## 2.2 Dicerolls Function\n",
    "\n",
    "Using the methods from above to define the functions that will fully replicate the roll of a number of dice k, with a fixed number of rolls n.   "
   ]
  },
  {
   "cell_type": "markdown",
   "metadata": {},
   "source": [
    "<a id='2.2-Dicerolls-Function'></a>"
   ]
  },
  {
   "cell_type": "code",
   "execution_count": 18,
   "metadata": {},
   "outputs": [],
   "source": [
    "def single_roll(k):\n",
    "    \"\"\"\n",
    "    Function to replicate a single roll of k number of dice.\n",
    "    \"\"\" \n",
    "    d = []\n",
    "    for x in range(0,k):\n",
    "        d.append(random.randint(1,6))\n",
    "    #print(d)\n",
    "    \n",
    "    return(sum(d))"
   ]
  },
  {
   "cell_type": "code",
   "execution_count": 19,
   "metadata": {},
   "outputs": [
    {
     "data": {
      "text/plain": [
       "10"
      ]
     },
     "execution_count": 19,
     "metadata": {},
     "output_type": "execute_result"
    }
   ],
   "source": [
    "single_roll(2)"
   ]
  },
  {
   "cell_type": "code",
   "execution_count": 20,
   "metadata": {},
   "outputs": [],
   "source": [
    "def dicerolls(k, n):\n",
    "    \"\"\"\n",
    "    Function to replicate a number of rolls n of k number of dice.\n",
    "    \"\"\" \n",
    "    l = []\n",
    "    \n",
    "    for i in range(0,n):\n",
    "        l.append(single_roll(k))            # using the single_roll function.\n",
    "    \n",
    "    dice_roll = counts(l)                   # count function taken from task 1.\n",
    "    #print(l)\n",
    "    return dice_roll"
   ]
  },
  {
   "cell_type": "code",
   "execution_count": 21,
   "metadata": {
    "scrolled": true
   },
   "outputs": [
    {
     "name": "stdout",
     "output_type": "stream",
     "text": [
      "Dice Roll Results =  {5: 91, 11: 60, 6: 153, 9: 106, 7: 159, 8: 131, 12: 29, 4: 98, 10: 80, 2: 32, 3: 61}\n"
     ]
    }
   ],
   "source": [
    "# rolling 2 dice (k=2) 1000 times (n=1000.\n",
    "x = dicerolls(2, 1000)\n",
    "print(\"Dice Roll Results = \", x)"
   ]
  },
  {
   "cell_type": "markdown",
   "metadata": {},
   "source": [
    "## 2.3 Visualize Dicerolls\n",
    "\n",
    "To visualize the results from rolling the 2 dice above 1000 times, a Seaborn bar chart was created.\n",
    "\n",
    "The results were compiled into a pandas DataFrame structure, where the column names 'Sum of Dice' & 'Count' were added. The DataFrame values were then sorted by the 'Sum of Dice' values in ascending order providing a useful table to accompany the Seaborn bar chart plot."
   ]
  },
  {
   "cell_type": "code",
   "execution_count": 22,
   "metadata": {},
   "outputs": [
    {
     "name": "stdout",
     "output_type": "stream",
     "text": [
      "    Sum of Dice  Count\n",
      "9             2     32\n",
      "10            3     61\n",
      "7             4     98\n",
      "0             5     91\n",
      "2             6    153\n",
      "4             7    159\n",
      "5             8    131\n",
      "3             9    106\n",
      "8            10     80\n",
      "1            11     60\n",
      "6            12     29\n"
     ]
    },
    {
     "data": {
      "image/png": "[encoded data removed]",
      "text/plain": [
       "<Figure size 432x288 with 1 Axes>"
      ]
     },
     "metadata": {
      "needs_background": "light"
     },
     "output_type": "display_data"
    }
   ],
   "source": [
    "# taking dictionary x & output key & values as separate lists, sum_dice & count. \n",
    "sum_dice = list(x.keys())\n",
    "count = list(x.values())\n",
    "\n",
    "y = {\"Sum of Dice\" : sum_dice, \"Count\" : count}\n",
    "df =pd.DataFrame(y)\n",
    "print(df.sort_values(by=\"Sum of Dice\"))\n",
    "\n",
    "sns.barplot(x = \"Sum of Dice\", y = \"Count\", data = df);"
   ]
  },
  {
   "cell_type": "markdown",
   "metadata": {},
   "source": [
    "From the Pandas DataFrame & Seaborn bar plot above, the distribution shape of the sum of the dice values (k no. dice) for n number of rolls is very distinctive. \n",
    "\n",
    "The distribution mostly peaks at the sum value of 7 and then tapers off to the values at either end i.e minimum dice sum value = 2 (rolling 2no. 1's) & maximum sum value = 12 (rolling 2no. 6's)\n",
    "\n",
    "The shape of the distribution is the due to the probabilities of rolling one than more dice, e.g it is more likely when using 2 dice to roll a 7 rather than a 2 or a 12. as there are 6 ways (permutations) to achieve a 7 using 2 dice i.e (1 & 6), (2 & 5), (3 & 4), (4 & 3), (5 & 2), (6 & 1).\n",
    "\n",
    "When rolling 2 dice there are a total of 36 combinations or permutationsfor achieving the range of values from 2 up to 12, therefore the probability of rolling a particular value can be calculated using the following formula.\n",
    "\n",
    "$$Probability = \\frac {Number \\space of \\space possible \\space outcomes}\n",
    "{Number \\space of \\space desired \\space outcomes}\\hspace{1cm}(1)$$\n",
    "\n",
    "Probability of rolling a 7 - 16.667%\n",
    "\n",
    "$$\\frac{6}{36} = 0.16667$$\n",
    "\n",
    "Probability of rolling a 2 - 2.778%\n",
    "\n",
    "$$\\frac{1}{36} = 0.02778$$\n",
    "\n",
    "Increasing the number of dice rolled & increasing the number of times the dice are rolled accentuates the bell curve distribution shape, as it increases the range of the dice sum values (2 dice range from 2 to 12, 3 dice range from 3 to 18, 4 dice range from 4 to 24 etc). As shown below the shape of the distribution approximates a normal distribution.\n",
    "\n",
    "If you roll only 1 dice a 1000 times you will find a uniform distribution between the dice values i.e the probability of rolling a 1 or a 6 on a single dice is the same (2.778%), as shown below.\n",
    "\n",
    "| One Dice / Rolled 1000x (Uniform Distribution) | Five Dice / Rolled 10000x (Normal Distribution)|\n",
    "|-------------------------|---------------------------|\n",
    "|![one dice](https://github.com/PaulSweeney89/FDA-Tasks/blob/main/Images/1%20Dice.png?raw=true)|![five dice](https://github.com/PaulSweeney89/FDA-Tasks/blob/main/Images/5%20Dice.png?raw=true)|\n",
    "\n",
    "\n",
    "**Roll 2-Dice Probability Table** [3]\n",
    "\n",
    "|ROLL A…|PROBABILITY|\n",
    "|------------|----------------|\n",
    "|2|1/36 (2.778%)|\n",
    "|3|2/36 (5.556%)|\n",
    "|4|3/36 (8.333%)|\n",
    "|5|4/36 (11.111%)|\n",
    "|6|5/36 (13.889%)|\n",
    "|7|6/36 (16.667%)|\n",
    "|8|5/36 (13.889%)|\n",
    "|9|4/36 (11.111%)|\n",
    "|10|3/36 (8.333%)|\n",
    "|11|2/36 (5.556%)|\n",
    "|12|1/36 (2.778%)|\n"
   ]
  },
  {
   "cell_type": "markdown",
   "metadata": {},
   "source": [
    "## 2.4 References for Task 2\n",
    "\n",
    "[1] [stackoverflow.com, Mathplotlib Bar Chart using Dictionary](https://stackoverflow.com/questions/16010869/plot-a-bar-using-matplotlib-using-a-dictionary#answer-53432195:~:text=suggest%3A-,import%20matplotlib.pyplot%20as%20plt,plt.show())\n",
    "\n",
    "[2] [sharpsightlabs.com, Seaborn Barplot](https://www.sharpsightlabs.com/blog/seaborn-barplot/)\n",
    "\n",
    "[3] [statisticshowto, Dice Roll Probability](https://www.statisticshowto.com/probability-and-statistics/probability-main-index/dice-roll-probability-6-sided-dice/)"
   ]
  },
  {
   "cell_type": "markdown",
   "metadata": {},
   "source": [
    "<br>\n",
    "\n",
    "#  TASK 3 - CoinFlip\n",
    "***\n",
    "\n",
    "**November 2nd, 2020:** \n",
    "\n",
    "Objective:\n",
    "\n",
    "Using jupyter notebook write some python code which simulates flipping a coin with a 50/50 chance of heads or tails a 100 times, the code should count & record the number of heads landed for each coin flip. The code should then repeat this process 1000 times, using an appropriate plot the results of the coin flips should be depicted. It should be shown that the distribution of recorded heads landed for the coin fills will follow a bell-shaped curve. \n",
    "\n",
    "<img src=\"https://github.com/PaulSweeney89/FDA-Tasks/blob/main/Images/Coinflip.png?raw=true\" width=\"250\"/>\n",
    "\n",
    "***"
   ]
  },
  {
   "cell_type": "markdown",
   "metadata": {},
   "source": [
    "## 3.1 CoinFlip Function\n",
    "\n",
    "The workings of DiceRolls function in Section 2.2 is very similar to the requirements for this task.\n",
    "Therefore the same approach can be taken to develop a function that simulates 100 coin flips repeated a 1000 times."
   ]
  },
  {
   "cell_type": "code",
   "execution_count": 23,
   "metadata": {},
   "outputs": [],
   "source": [
    "# Define function CF, repeated 'n' number of times\n",
    "def CF(n):\n",
    "    \"\"\"\n",
    "    Function to replicate a coin flip, with n number of flips.\n",
    "    \"\"\" \n",
    "    list_CF = []\n",
    "    for x in range(0, n):\n",
    "        list_CF.append(random.randint(0, 1))\n",
    "    return list_CF"
   ]
  },
  {
   "cell_type": "code",
   "execution_count": 24,
   "metadata": {},
   "outputs": [
    {
     "name": "stdout",
     "output_type": "stream",
     "text": [
      "Results of CF =  [0, 0, 0, 1, 1, 1, 0, 1, 1, 1, 0, 0, 0, 1, 1, 0, 0, 0, 1, 0, 1, 1, 0, 1, 1, 0, 0, 1, 1, 1, 1, 1, 0, 0, 0, 1, 0, 0, 1, 0, 1, 0, 0, 1, 1, 1, 1, 0, 1, 1, 0, 0, 0, 1, 1, 0, 1, 1, 1, 0, 1, 0, 1, 0, 1, 1, 0, 1, 0, 0, 0, 0, 0, 0, 0, 0, 0, 1, 0, 0, 1, 1, 0, 0, 0, 0, 0, 1, 1, 0, 0, 0, 0, 0, 1, 1, 0, 1, 0, 1] \n",
      "\n",
      "Sum of heads =  46\n"
     ]
    }
   ],
   "source": [
    "# CF function to simulate 100 number coin flips\n",
    "cf = CF(100)\n",
    "print(\"Results of CF = \", cf, \"\\n\")\n",
    "print(\"Sum of heads = \", sum(cf))"
   ]
  },
  {
   "cell_type": "markdown",
   "metadata": {},
   "source": [
    "The CF function produces at random a 0 or a 1, where 1 equals a coin flip landing on heads & 0 equals a tails. The results of each of the n number of coin flips is recorded as a list, by counting up the number of 1 generated it will equivalent of counting the number of heads flipped."
   ]
  },
  {
   "cell_type": "code",
   "execution_count": 25,
   "metadata": {},
   "outputs": [],
   "source": [
    "# Define function CoinFlip to repeat CF, 's' number of times\n",
    "def CoinFlip(n, s):\n",
    "    \"\"\"\n",
    "    Function to replicate a number of coin flips, n number of flips, repeated s number of times.\n",
    "    \"\"\"\n",
    "    list_CoinFlip = []\n",
    "    for i in range(0, s):\n",
    "        list_CoinFlip.append(sum(CF(n)))                    # using the sum of CF function to count number of heads flipped.\n",
    "        count_heads = counts(list_CoinFlip)                 # count function taken from task 1.\n",
    "    return count_heads"
   ]
  },
  {
   "cell_type": "code",
   "execution_count": 26,
   "metadata": {
    "scrolled": false
   },
   "outputs": [],
   "source": [
    "# CoinFlip function to simulate 100 number coin flips repeated 1000 times\n",
    "heads = CoinFlip(100, 1000)"
   ]
  },
  {
   "cell_type": "markdown",
   "metadata": {},
   "source": [
    "The CoinFlip function counts the number of heads achieved from the CF function, repeats this process for 's' number of times & outputs the results as a dictionary using the counts function developed in task 1."
   ]
  },
  {
   "cell_type": "markdown",
   "metadata": {},
   "source": [
    "## 3.2 Visualize CoinFlips\n",
    "\n",
    "To visualize the results from flipping a coin 100 times & then repeated 1000 times, a Seaborn bar chart was created.\n",
    "\n",
    "The results were compiled into a pandas DataFrame structure, where the column names 'No. of Heads Flipped' & 'Count' were added. The DataFrame values were then sorted by the 'No. of Heads Flipped' values in ascending order providing a useful table to accompany the Seaborn bar chart plot."
   ]
  },
  {
   "cell_type": "code",
   "execution_count": 27,
   "metadata": {
    "scrolled": false
   },
   "outputs": [
    {
     "name": "stdout",
     "output_type": "stream",
     "text": [
      "    No. of Heads Flipped  Count\n",
      "4                     35      1\n",
      "23                    36      2\n",
      "22                    37      4\n",
      "29                    38      5\n",
      "25                    39      3\n",
      "2                     40      9\n",
      "24                    41     16\n",
      "12                    42     22\n",
      "11                    43     31\n",
      "15                    44     49\n",
      "0                     45     46\n",
      "14                    46     63\n",
      "5                     47     60\n",
      "3                     48     80\n",
      "7                     49     76\n",
      "6                     50     79\n",
      "1                     51     67\n",
      "10                    52     79\n",
      "13                    53     80\n",
      "9                     54     52\n",
      "8                     55     52\n",
      "16                    56     42\n",
      "19                    57     27\n",
      "20                    58     18\n",
      "18                    59     12\n",
      "17                    60     12\n",
      "21                    61      6\n",
      "28                    62      1\n",
      "26                    63      3\n",
      "27                    64      2\n",
      "30                    65      1\n"
     ]
    },
    {
     "data": {
      "image/png": "[encoded data removed]",
      "text/plain": [
       "<Figure size 432x288 with 1 Axes>"
      ]
     },
     "metadata": {
      "needs_background": "light"
     },
     "output_type": "display_data"
    }
   ],
   "source": [
    "# taking dictionary 'heads' & output key & values as separate lists, heads_sum & heads_count. \n",
    "heads_sum = list(heads.keys())\n",
    "heads_count = list(heads.values())\n",
    "\n",
    "# create a pandas DataFrame of the results of the CoinFlip Function\n",
    "total_heads = {\"No. of Heads Flipped\" : heads_sum, \"Count\" : heads_count}\n",
    "df_heads =pd.DataFrame(total_heads)\n",
    "print(df_heads.sort_values(by=\"No. of Heads Flipped\"))\n",
    "\n",
    "plt.xticks(rotation=90)\n",
    "plt.title(\"100 Coin Flip x 1000\")\n",
    "sns.barplot(x = \"No. of Heads Flipped\", y = \"Count\", data = df_heads);"
   ]
  },
  {
   "cell_type": "markdown",
   "metadata": {},
   "source": [
    "From the seaborn bar plot & dataframe table above, the results of flipping a coin 100 times & repeating this process 1000 times can be seen. \n",
    "\n",
    "By recording & plotting the number of heads flipped per each 100 coin flips, the distribution of values is shown to follow a distinctive bell curve shape.\n",
    "\n",
    "The distribution plot & output results show that the peak of the distribution is centred approximately around the mean value of 50 heads out of 100, as is expected as each flip of the coin flip has the same probability (50%) of coming up heads or tails. \n",
    "\n",
    "The distribution then tapers off to either side to the lower values of range 35 to 38 & to the higher values of range 62 to 65. This shape of the distribution indicates that there is a higher probability of obtaining values within the range of 45 to 55, compared to the other values when carrying out this coin flip exercise.\n",
    "\n",
    "The above coin flip distribution follows what is know as a binomial distribution which can be described using the following probability function.\n",
    "\n",
    "$$ Pr(X) =\\left(n \\atop k\\right) p^{k} (1−p)^{n−k} \\hspace{1cm}(1)$$\n",
    "\n",
    "$$\\left(n \\atop k\\right) = \\frac {n!}{k!(n-k)!} \\hspace{1cm}(2)$$\n",
    "\n",
    "The probability Pr(X) of getting exactly k successes in n independent trials, where p = probability of success on an individual trial. \n",
    "\n",
    "Note that function 2 is used to calculate the number of permutations available for the inputted values e.g the number of ways to get n heads in k flips."
   ]
  },
  {
   "cell_type": "markdown",
   "metadata": {},
   "source": [
    "## 3.3 Binomial Probability Function\n",
    "\n",
    "Using the binomial probability function to plot the probability distribution for a 100 coin flips."
   ]
  },
  {
   "cell_type": "code",
   "execution_count": 86,
   "metadata": {},
   "outputs": [],
   "source": [
    "def perm(n, k):\n",
    "    ''' Permutation formula for 'n' heads in 'k' flips'''\n",
    "    n_fac = math.factorial(n)\n",
    "    k_fac = math.factorial(k)\n",
    "    n_k_fac = math.factorial(n-k)\n",
    "    \n",
    "    nk = n_fac / (k_fac * n_k_fac)\n",
    "    \n",
    "    return nk"
   ]
  },
  {
   "cell_type": "code",
   "execution_count": 87,
   "metadata": {},
   "outputs": [],
   "source": [
    "def Pr(k, n, p):\n",
    "    ''' Binomial distribution formula'''\n",
    "    \n",
    "    # calculate permutation formula\n",
    "    nk = perm(n, k)\n",
    "    \n",
    "    # calculate binomial \n",
    "    pr = nk*(p**k)*(1-p)**(n-k)\n",
    "    \n",
    "    return pr"
   ]
  },
  {
   "cell_type": "markdown",
   "metadata": {},
   "source": [
    "**Example:**\n",
    "\n",
    "Using a unbiased coin with a probability of p = 0.5 when tossed. \n",
    "\n",
    "1. Calculate the probability of seeing exactly k = 50 heads in n = 100 tosses.\n",
    "\n",
    "2. Calculate the probability of seeing exactly k = 36 heads in n = 100 tosses."
   ]
  },
  {
   "cell_type": "code",
   "execution_count": 88,
   "metadata": {
    "scrolled": false
   },
   "outputs": [
    {
     "name": "stdout",
     "output_type": "stream",
     "text": [
      "Probability - 50 heads =  7.96 %\n",
      "Probability - 36 heads =  0.16 %\n"
     ]
    }
   ],
   "source": [
    "# Calculate probability of example above\n",
    "print(\"Probability - 50 heads = \", round(Pr(50, 100, 0.5) * 100, 2), \"%\")\n",
    "print(\"Probability - 36 heads = \", round(Pr(36, 100, 0.5) * 100, 2), \"%\")"
   ]
  },
  {
   "cell_type": "markdown",
   "metadata": {},
   "source": [
    "Plotting the probability distribution of the number of heads landed for flipping a coin 100 times."
   ]
  },
  {
   "cell_type": "code",
   "execution_count": 30,
   "metadata": {
    "scrolled": false
   },
   "outputs": [
    {
     "data": {
      "image/png": "[encoded data removed]",
      "text/plain": [
       "<Figure size 432x288 with 1 Axes>"
      ]
     },
     "metadata": {
      "needs_background": "light"
     },
     "output_type": "display_data"
    }
   ],
   "source": [
    "p_list = []\n",
    "for i in range(1, 101):\n",
    "    prob = Pr(i, 101, 0.5)\n",
    "    p_list.append(prob)\n",
    "\n",
    "xplot = np.arange(1, 101)\n",
    "\n",
    "plt.title(\"100 Coin Flip Probabilities\")\n",
    "plt.xlabel(\"No. of Heads\")\n",
    "sns.lineplot(x=xplot, y=p_list);"
   ]
  },
  {
   "cell_type": "markdown",
   "metadata": {},
   "source": [
    "It can be seen that the results from section 3.2 clearly follow the binomial probability distribution plot shown above. The peak of the distribution occurs at 50 and the shape tapers off at either end, approx 35 min end & 65 max end. It can be seen that outside this range of values (35 - 65) the distribution reaches almost 0, i.e the probability of achieving 1 heads or 80 heads out of 100 is practically 0."
   ]
  },
  {
   "cell_type": "markdown",
   "metadata": {},
   "source": [
    "## 3.4 NumPy Binomial Distribution\n",
    "\n",
    "The NumPy python package has a built-in function for generating random values that will follow a binomial distribution shape. This function can also be used  to simulate the coin flip exercise & to provide very similar results."
   ]
  },
  {
   "cell_type": "code",
   "execution_count": 96,
   "metadata": {
    "scrolled": false
   },
   "outputs": [
    {
     "name": "stdout",
     "output_type": "stream",
     "text": [
      "    No. of Heads Flipped  Count\n",
      "29                    34      1\n",
      "28                    35      2\n",
      "30                    36      1\n",
      "27                    37      2\n",
      "26                    38      6\n",
      "25                    39      6\n",
      "22                    40     11\n",
      "11                    41     23\n",
      "9                     42     22\n",
      "19                    43     23\n",
      "17                    44     33\n",
      "0                     45     60\n",
      "8                     46     63\n",
      "3                     47     77\n",
      "7                     48     56\n",
      "12                    49     91\n",
      "4                     50     74\n",
      "15                    51     72\n",
      "1                     52     72\n",
      "13                    53     62\n",
      "14                    54     63\n",
      "6                     55     60\n",
      "5                     56     41\n",
      "16                    57     30\n",
      "18                    58     15\n",
      "21                    59     10\n",
      "2                     60      4\n",
      "10                    61      9\n",
      "23                    62      4\n",
      "24                    63      5\n",
      "20                    64      2\n"
     ]
    },
    {
     "data": {
      "image/png": "[encoded data removed]",
      "text/plain": [
       "<Figure size 432x288 with 1 Axes>"
      ]
     },
     "metadata": {
      "needs_background": "light"
     },
     "output_type": "display_data"
    }
   ],
   "source": [
    "# Using NumPy's binomial distribution to simulate 100 fair sided coin tosses & repeated 1000 times. \n",
    "import numpy as np\n",
    "\n",
    "coin_flip = np.random.binomial(n=100, p=0.5, size=1000)\n",
    "\n",
    "# create dictonary of binomial distribution results\n",
    "bin_cf = counts(coin_flip.tolist())\n",
    "\n",
    "# taking dictionary & output key & values as separate lists\n",
    "bin_sum = list(bin_cf.keys())\n",
    "bin_count = list(bin_cf.values())\n",
    "\n",
    "# create a pandas DataFrame of the results of the binomial distribution\n",
    "total_heads_bin = {\"No. of Heads Flipped\" : bin_sum, \"Count\" : bin_count}\n",
    "df_heads_bin =pd.DataFrame(total_heads_bin)\n",
    "print(df_heads_bin.sort_values(by=\"No. of Heads Flipped\"))\n",
    "\n",
    "# calc no. of bins for plot in order to display full distribution shape\n",
    "no_bins = max(df_heads_bin[\"No. of Heads Flipped\"])- min(df_heads_bin[\"No. of Heads Flipped\"])\n",
    "\n",
    "sns.distplot(coin_flip, kde=False, bins=no_bins, hist_kws=dict(edgecolor=\"black\", linewidth=1));"
   ]
  },
  {
   "cell_type": "markdown",
   "metadata": {},
   "source": [
    "It can be seen that the distribution shape is very similar to that of section 3.2, with the peak of the distribution occuring around 50 and tapering off at each end."
   ]
  },
  {
   "cell_type": "markdown",
   "metadata": {},
   "source": [
    "## 3.5 References for Task 3\n",
    "\n",
    "[1] [fourmilab.ch, Probability and Statistics](https://www.fourmilab.ch/rpkp/experiments/statistics.html)\n",
    "\n",
    "[2] [investopedia.com, Binomial Distribution](https://www.investopedia.com/terms/b/binomialdistribution.asp)\n",
    "\n",
    "[3] [wikipedia.org, Binomial Distribution](https://en.wikipedia.org/wiki/Binomial_distribution)\n",
    "\n",
    "[4] [github.com, PaulSweeney, Section 3.5 NumPy Binomial Distribution](https://github.com/PaulSweeney89/ProgDA-Task/blob/main/NumPy.ipynb)"
   ]
  },
  {
   "attachments": {},
   "cell_type": "markdown",
   "metadata": {},
   "source": [
    "<br>\n",
    "\n",
    "#  TASK 4 - Simpson’s Paradox\n",
    "***\n",
    "\n",
    "**November 30th, 2020:** \n",
    "\n",
    "Objective:\n",
    "\n",
    "Use numpy to create four data sets, each with an **x** array and a corresponding **y** array, to demonstrate Simpson’s paradox.\n",
    "\n",
    "<img src=\"https://github.com/PaulSweeney89/FDA-Tasks/blob/main/Images/Simpson's%20Paradox.PNG?raw=true\" />\n",
    "\n",
    "Simpson’s Paradox occurs when trends appear to occur in in several different groups of data when the dataset is separated, however when the groups of data are combined or aggregated the trends reverse.\n",
    "\n",
    "In the image above, it can be seen that when looking at the blue & red data separately the slope of the line or trend of the data is negative i.e  the **x** & **y** variables are negatively related. However when the datapoints are combined the trend of the data changes direction and there appears to be a positive relationship between the **x** & **y** variables.\n",
    "\n",
    "Simpson's paradox can occur as a real world statistical phenomenon, it illustrates how statistical results can be easily misinterpreted and can often lead to incorrect conclusions about particular data. "
   ]
  },
  {
   "cell_type": "markdown",
   "metadata": {},
   "source": [
    "## 4.1 Demonstrating Simpon's Paradox\n",
    "\n"
   ]
  },
  {
   "cell_type": "markdown",
   "metadata": {},
   "source": [
    "## 4.3 References for Task 4\n",
    "\n",
    "[1] [wikipedia.org, Simpon's Paradox](https://en.wikipedia.org/wiki/Simpson%27s_paradox#:~:text=Simpson's%20paradox%2C%20which%20also%20goes,when%20these%20groups%20are%20combined.)"
   ]
  },
  {
   "cell_type": "code",
   "execution_count": null,
   "metadata": {},
   "outputs": [],
   "source": []
  }
 ],
 "metadata": {
  "kernelspec": {
   "display_name": "Python 3",
   "language": "python",
   "name": "python3"
  },
  "language_info": {
   "codemirror_mode": {
    "name": "ipython",
    "version": 3
   },
   "file_extension": ".py",
   "mimetype": "text/x-python",
   "name": "python",
   "nbconvert_exporter": "python",
   "pygments_lexer": "ipython3",
   "version": "3.8.3"
  }
 },
 "nbformat": 4,
 "nbformat_minor": 4
}
