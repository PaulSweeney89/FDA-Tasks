{
 "cells": [
  {
   "cell_type": "markdown",
   "metadata": {},
   "source": [
    "#  TASK 1 - COUNTS\n",
    "***\n",
    "\n",
    "**October 5th, 2020:** \n",
    "\n",
    "Objective:\n",
    "\n",
    "Write a Python function called **counts** that takes a list as an input and returns a dictionary with the unique items of the input list as keys of the dictionary with the number of times each item appears as values. \n",
    "\n",
    "Example:\n",
    "\n",
    "`Input list = ['A', 'A', 'B', 'C', 'A']`\n",
    "\n",
    "`Output Dictonary = {'A': 3, 'B': 1, 'C': 1}`\n",
    "\n",
    "<img src=\"https://github.com/PaulSweeney89/FDA-Tasks/blob/main/Images/Count%20von%20Count.jpeg?raw=true\" width=\"250\"/>\n",
    "\n",
    "***"
   ]
  },
  {
   "cell_type": "markdown",
   "metadata": {},
   "source": [
    "## 1.1 Test Code\n",
    "\n",
    "Initial testing of various lines of code as a means to experiement & develop the main program function."
   ]
  },
  {
   "cell_type": "code",
   "execution_count": 128,
   "metadata": {},
   "outputs": [],
   "source": [
    "# Initiate with a list constisting of a number of various strings - see note 1 below\n",
    "l = ['A', 'A', 'B', 'C', 'A']"
   ]
  },
  {
   "cell_type": "markdown",
   "metadata": {},
   "source": [
    "Lists in code blocks below commented out, remove comment # in order to check list with for loop below."
   ]
  },
  {
   "cell_type": "code",
   "execution_count": 134,
   "metadata": {},
   "outputs": [],
   "source": [
    "# try with a list including various strings, intergers & floating numbers - see note 2 below\n",
    "# l= ['$', 5, -5, '$', 'Test', 'Test', -5, 0.35, 0.35,] "
   ]
  },
  {
   "cell_type": "code",
   "execution_count": 135,
   "metadata": {},
   "outputs": [],
   "source": [
    "# list to be nestled with a list - see note 4 below\n",
    "# l1 = ['???','???', 'nestled']"
   ]
  },
  {
   "cell_type": "code",
   "execution_count": 136,
   "metadata": {},
   "outputs": [],
   "source": [
    "# a list nestled within the list - see note 4 below\n",
    "# l = ['F', '7', l1]\n",
    "# print(l)\n",
    "# print(type(l[0]))\n",
    "# print(type(l[1]))\n",
    "# print(type(l[2]))"
   ]
  },
  {
   "cell_type": "code",
   "execution_count": 137,
   "metadata": {},
   "outputs": [],
   "source": [
    "# Provide a empty dictionary to be populated with the values of the list\n",
    "d = {}"
   ]
  },
  {
   "cell_type": "code",
   "execution_count": 138,
   "metadata": {},
   "outputs": [
    {
     "name": "stdout",
     "output_type": "stream",
     "text": [
      "{'A': 3, 'B': 1, 'C': 1}\n"
     ]
    }
   ],
   "source": [
    "for value in range(0, len(l)):        # loop through all the values within in the input list                                     \n",
    "    x = l[value]                      # define x as a value in the list   \n",
    "                                                                               \n",
    "    if x in d:                         # if the list value (x) from the list is a key in the dictionary (d)\n",
    "        d[x] += 1                      # add 1 to the key value in the dictionary \n",
    "      \n",
    "    else:                              # else add the list value (x) as a key with value = 1         \n",
    "        d[x] = 1\n",
    "print(d)"
   ]
  },
  {
   "cell_type": "markdown",
   "metadata": {},
   "source": [
    "**Note 1:** The above test code succesfully takes the string values from the input list and outputs as a dictionary and counts the number of times each string value appear in the list.\n",
    "\n",
    "**Note 2:** After success with testing a list containing only string type values, the code was re-run with a second list containing strings, intergers & floating numbers. The test code also worked in this instance. \n",
    "\n",
    "**Note 3:** The jupyter notebook line order number (In) will determine which of the input lists will be used into the test code.\n",
    "\n",
    "**Note 4:** The test code does not works when the input list contains a nested list with, i.e list `l1`. \n",
    "\n",
    "Looking at the data types within the list it can been seen that the nested list `l1` remains as a 'list' type and therefore is not compatiable with the dictionary & counting approach developed.     "
   ]
  },
  {
   "cell_type": "markdown",
   "metadata": {},
   "source": [
    "##  1.2 Nested List Within a List - 'Flatten the List'\n",
    "\n",
    "In the below code I have made an hatchet attempt to 'flatten' out a list that contains within it another list or a nested list to possibly resolve the issue highlighted above in note 4.\n",
    "\n",
    "The nested list was identifed by looking at the element types within the list using the **isinstance()** function [1],[2] \n",
    "\n",
    "The **list.pop()** function was used to remove the nested list from the main list [3]\n",
    "\n",
    "The nested list was then merged with the main list [4], the final merged list then therefore only contained intergers, strings or floats.\n",
    "\n",
    "This attempt at 'flattening out' a list containing a nested list seems quite cumbersome and not a very efficent means to extract and re-merge a nested list, so I did not develop this means any further."
   ]
  },
  {
   "cell_type": "code",
   "execution_count": 139,
   "metadata": {},
   "outputs": [
    {
     "name": "stdout",
     "output_type": "stream",
     "text": [
      "[6, 'A', 5, 5.5, 5]\n",
      "<class 'int'>\n",
      "<class 'str'>\n",
      "<class 'int'>\n",
      "<class 'float'>\n",
      "<class 'int'>\n"
     ]
    }
   ],
   "source": [
    "l2 = [5, 5.5, 5]\n",
    "l3 = [6, 'A', l2]\n",
    "\n",
    "for val in range(0, len(l3)):\n",
    "    y = l3[val]\n",
    "    \n",
    "    if isinstance(y, list):\n",
    "        lremove = l3.pop(val)\n",
    "        lmerge = l3 + y\n",
    "        \n",
    "print(lmerge)\n",
    "    \n",
    "for val in range(0, len(lmerge)):\n",
    "    print(type(lmerge[val]))"
   ]
  },
  {
   "cell_type": "markdown",
   "metadata": {},
   "source": [
    "## 1.3 Nested Lists - Continued\n",
    "\n",
    "Following on from the above attempt at 'flattening the list', I came across the below function taken  directly from an article at thispointer.com [6] which makes use of the **list.extend()** and **list.append()** functions to effectively 'flatten' nested lists within a list.\n",
    "\n",
    "This is a much more efficent & simplier approach to use, rather than attempting to use the **list.pop()** and list merge functions I had attempted in the above code."
   ]
  },
  {
   "cell_type": "code",
   "execution_count": 140,
   "metadata": {},
   "outputs": [],
   "source": [
    "def flattenNestedList(nestedList):\n",
    "    ''' Converts a nested list to a flat list\n",
    "        thispointer.com\n",
    "    '''\n",
    "    \n",
    "    flatList = []\n",
    "    # Iterate over all the elements in given list\n",
    "    for elem in nestedList:\n",
    "        # Check if type of element is list\n",
    "        if isinstance(elem, list):\n",
    "            # Extend the flat list by adding contents of this element (list)\n",
    "            flatList.extend(flattenNestedList(elem))\n",
    "            \n",
    "        # Additional check if type of element is tuple (not in original code from thispointer.com)    \n",
    "        elif isinstance(elem, tuple):\n",
    "            # change tuple type to list type\n",
    "            tuple2list = list(elem)\n",
    "            # merge back into list\n",
    "            flatList = flatList + tuple2list\n",
    "            \n",
    "        else:\n",
    "            # Append the elemengt to the list\n",
    "            flatList.append(elem)    \n",
    "    return flatList"
   ]
  },
  {
   "cell_type": "code",
   "execution_count": 141,
   "metadata": {},
   "outputs": [
    {
     "data": {
      "text/plain": [
       "['a', 'a', 2, 2]"
      ]
     },
     "execution_count": 141,
     "metadata": {},
     "output_type": "execute_result"
    }
   ],
   "source": [
    "# list to check the above function\n",
    "l4 = ['a', 'a', [2,2]]\n",
    "flattenNestedList(l4)"
   ]
  },
  {
   "cell_type": "code",
   "execution_count": 142,
   "metadata": {},
   "outputs": [
    {
     "name": "stdout",
     "output_type": "stream",
     "text": [
      "['a', 'a', 2, 2]\n"
     ]
    }
   ],
   "source": [
    "# list to check above function containing a tuple\n",
    "l5 = ['a', 'a', (2,2)]\n",
    "print(flattenNestedList(l5))"
   ]
  },
  {
   "cell_type": "markdown",
   "metadata": {},
   "source": [
    "**Note:** the original function taken from thispointer.com [6] above did not include the means to check & merge a tuple contained within the list, i.e list `l5`\n",
    "\n",
    "However by including the addition **elif** statement into the function definition above, the list will also be checked for containing any tuples and the tuples are easily converted to a list and re-merged back into the list.\n",
    "```\n",
    "        elif isinstance(elem, tuple):\n",
    "            tuple2list = list(elem)\n",
    "            flatList = flatList + tuple2list\n",
    "```"
   ]
  },
  {
   "cell_type": "markdown",
   "metadata": {},
   "source": [
    "## 1.4 Counts Function\n",
    "\n",
    "Using the code & function developed above and defining it as the **counts** function, to complete the objective of the task."
   ]
  },
  {
   "cell_type": "code",
   "execution_count": 143,
   "metadata": {},
   "outputs": [],
   "source": [
    "def counts(l):\n",
    "    \"\"\"\n",
    "    function counts the number of values in a input list \n",
    "    and returns the result as a dictionary\n",
    "    \"\"\"    \n",
    "    d = {}\n",
    "    \n",
    "    # incorporting the flattenNestedlist() function. \n",
    "    l = flattenNestedList(l)\n",
    "    \n",
    "    for value in range(0, len(l)):\n",
    "        x = l[value]\n",
    "        if x in d:\n",
    "            d[x] += 1\n",
    "        else:\n",
    "            d[x] = 1\n",
    "    return(d)"
   ]
  },
  {
   "cell_type": "code",
   "execution_count": 144,
   "metadata": {},
   "outputs": [
    {
     "data": {
      "text/plain": [
       "{'A': 4, 'B': 1, 'c': 1, 1: 1, 2: 3, 3.5: 3, 'D': 2}"
      ]
     },
     "execution_count": 144,
     "metadata": {},
     "output_type": "execute_result"
    }
   ],
   "source": [
    "# a list containing strings, intergers, floats, nested lists & tuples.\n",
    "l6 = ['A', 'A', 'B', 'c', 1, 2 , 3.5, ['A', 'A'], [2, 2], ('D', 'D'), (3.5, 3.5)]\n",
    "counts(l6)"
   ]
  },
  {
   "cell_type": "code",
   "execution_count": 145,
   "metadata": {},
   "outputs": [
    {
     "data": {
      "text/plain": [
       "{'A': 2, 'B': 2}"
      ]
     },
     "execution_count": 145,
     "metadata": {},
     "output_type": "execute_result"
    }
   ],
   "source": [
    "# a list containing nested tuple within a nested list\n",
    "l7 = ['A', ['A', ('B', 'B')]]\n",
    "counts(l7)"
   ]
  },
  {
   "cell_type": "markdown",
   "metadata": {},
   "source": [
    "## 1.5 Conclusion\n",
    "\n",
    "The ***counts()*** function developed is capable of taking in a list containing strings, intergers, floats and outputing the list as a dictionary, counting the number of times the value occurs within the list.\n",
    "\n",
    "By incorporting the the **flattenNestedList()**, the **counts()** function will also work when a list contains, nested lists or tuples.  \n",
    "\n",
    "One item of significance I gained from undetaking this task is the importance of naming conventions for variables. initially in the test code I used the name 'list' as the variable for the input list. \n",
    "I later found this to cause issues when looking at boolean statements for data types, i.e `if type(x) == list`. \n",
    "I then changed the variable name from 'list' to 'l' to avoid this issue, while jupyter had highlighted this by changing the colour of the named variable 'list', but at the time I did not give any thoughts to the significance of this.  "
   ]
  },
  {
   "cell_type": "markdown",
   "metadata": {},
   "source": [
    "## 1.6 References for Task 1:\n",
    "\n",
    "[1] Python|type() function, [geeksforgeeks.org](https://www.geeksforgeeks.org/python-type-function/)\n",
    "\n",
    "[2] Checking if type == list, [Stackoverflow.com](https://stackoverflow.com/a/26544117) \n",
    "\n",
    "[3] Python List pop function, [programiz.com](https://www.programiz.com/python-programming/methods/list/pop) \n",
    "\n",
    "[4] Merging Lists, [thispointer.com](https://www.programiz.com/python-programming/methods/list/pop) \n",
    "\n",
    "[5] 10 ways to convert lists to dictionaries, [medium.com](https://medium.com/better-programming/10-ways-to-convert-lists-to-dictionaries-in-python-d2c728d2aeb8)\n",
    "\n",
    "[6] Convert list of lists, [thispointer.com](https://thispointer.com/python-convert-list-of-lists-or-nested-list-to-flat-list/)\n",
    "    \n",
    "- - -"
   ]
  },
  {
   "attachments": {},
   "cell_type": "markdown",
   "metadata": {},
   "source": [
    "<br>\n",
    "\n",
    "#  TASK 2 - DiceRolls\n",
    "***\n",
    "\n",
    "**November 2nd, 2020:** \n",
    "\n",
    "Objective:\n",
    "\n",
    "Write a Python function called **dicerolls** that simulates rolling dice. The function should take two parameters: the number of dice $k$ and the number of times to roll the dice $n$. The function should simulate randomly rolling $k$ dice $n$ times, keeping track of each total face value. It should then return a dictionary with the number of times each possible total face value occurred.\n",
    "\n",
    "Example:\n",
    "\n",
    "`diceroll(k=2, n=1000)`\n",
    "\n",
    "`output dictionary = {2:19,3:50,4:82,5:112,6:135,7:174,8:133,9:114,10:75,11:70,12:36}`\n",
    "\n",
    "<img src=\"https://github.com/PaulSweeney89/FDA-Tasks/blob/main/Images/Dice.png?raw=true\" width=\"250\"/>\n",
    "\n",
    "***"
   ]
  },
  {
   "cell_type": "markdown",
   "metadata": {},
   "source": [
    "## 2.1 Test Code\n",
    "\n",
    "Initial testing of various lines of code as a means to experiement & develop the main program function."
   ]
  },
  {
   "cell_type": "code",
   "execution_count": 146,
   "metadata": {
    "scrolled": true
   },
   "outputs": [
    {
     "name": "stdout",
     "output_type": "stream",
     "text": [
      "1\n"
     ]
    }
   ],
   "source": [
    "# Generate random number between 1 & 6 to simulate a roll of a dice\n",
    "import random\n",
    "\n",
    "ran = random.randint(1,6)\n",
    "print(ran)"
   ]
  },
  {
   "cell_type": "markdown",
   "metadata": {},
   "source": [
    "Using the python random module to generate a random interger number from 1 to 6, replicating the roll of a dice."
   ]
  },
  {
   "cell_type": "code",
   "execution_count": 147,
   "metadata": {},
   "outputs": [
    {
     "name": "stdout",
     "output_type": "stream",
     "text": [
      "[6, 1, 1, 5, 5]\n"
     ]
    }
   ],
   "source": [
    "# Generate a single random number for n number of rolls\n",
    "n = 5\n",
    "l = [] \n",
    "for i in range(0,n):\n",
    "    l.append(random.randint(1,6))\n",
    "        \n",
    "print(l)"
   ]
  },
  {
   "cell_type": "markdown",
   "metadata": {},
   "source": [
    "Using a for loop to generate a random number for n number of rolls, the random numbers generated is outputted as a list."
   ]
  },
  {
   "cell_type": "code",
   "execution_count": 148,
   "metadata": {},
   "outputs": [
    {
     "name": "stdout",
     "output_type": "stream",
     "text": [
      "[3, 6]\n",
      "9\n"
     ]
    }
   ],
   "source": [
    "# Generate a random number for k number of diced rolled \n",
    "k = 2\n",
    "d = []\n",
    "for x in range(0,k):\n",
    "    d.append(random.randint(1,6))\n",
    "\n",
    "print(d)\n",
    "print(sum(d))"
   ]
  },
  {
   "cell_type": "markdown",
   "metadata": {},
   "source": [
    "Using a second for loop to generate k number of random numbers, the sum of the value of random numbers is calculated replicating the roll of one or more dice at a time."
   ]
  },
  {
   "cell_type": "markdown",
   "metadata": {},
   "source": [
    "## 2.2 Dicerolls Function\n",
    "\n",
    "Using the methods from above to define the functions that will fully replicate the roll of a number of dice k, with a fixed number of rolls n.   "
   ]
  },
  {
   "cell_type": "code",
   "execution_count": 149,
   "metadata": {},
   "outputs": [],
   "source": [
    "def single_roll(k):\n",
    "    \"\"\"\n",
    "    Function to replicate a single roll of k number of dice.\n",
    "    \"\"\" \n",
    "    d = []\n",
    "    for x in range(0,k):\n",
    "        d.append(random.randint(1,6))\n",
    "    #print(d)\n",
    "    \n",
    "    return(sum(d))"
   ]
  },
  {
   "cell_type": "code",
   "execution_count": 150,
   "metadata": {},
   "outputs": [
    {
     "data": {
      "text/plain": [
       "7"
      ]
     },
     "execution_count": 150,
     "metadata": {},
     "output_type": "execute_result"
    }
   ],
   "source": [
    "single_roll(2)"
   ]
  },
  {
   "cell_type": "code",
   "execution_count": 151,
   "metadata": {},
   "outputs": [],
   "source": [
    "def dicerolls(k, n):\n",
    "    \"\"\"\n",
    "    Function to replicate a number of rolls n of k number of dice.\n",
    "    \"\"\" \n",
    "    l = []\n",
    "    \n",
    "    for i in range(0,n):\n",
    "        l.append(single_roll(k))            # using the single_roll function.\n",
    "    \n",
    "    dice_roll = counts(l)                   # count function taken from task 1.\n",
    "    #print(l)\n",
    "    return dice_roll"
   ]
  },
  {
   "cell_type": "code",
   "execution_count": 152,
   "metadata": {
    "scrolled": true
   },
   "outputs": [
    {
     "name": "stdout",
     "output_type": "stream",
     "text": [
      "Dice Roll Results =  {8: 152, 3: 52, 6: 153, 9: 98, 7: 148, 12: 29, 2: 35, 11: 68, 4: 86, 10: 71, 5: 108}\n"
     ]
    }
   ],
   "source": [
    "# rolling 2 dice (k=2) 1000 times (n=1000.\n",
    "x = dicerolls(2, 1000)\n",
    "print(\"Dice Roll Results = \", x)"
   ]
  },
  {
   "cell_type": "markdown",
   "metadata": {},
   "source": [
    "## 2.3 Visualize Dicerolls\n",
    "\n",
    "To visualize the results from rolling the 2 dice above 1000 times, a Seaborn bar chart was created.\n",
    "\n",
    "The results were compiled into a pandas DataFrame structure, where the column names 'Sum of Dice' & 'Count' were added & then the DataFrame values were sorted by the 'Sum of Dice' values in ascending order providing a useful table to accompany the Seaborn bar chart plot."
   ]
  },
  {
   "cell_type": "code",
   "execution_count": 153,
   "metadata": {},
   "outputs": [
    {
     "name": "stdout",
     "output_type": "stream",
     "text": [
      "    Sum of Dice  Count\n",
      "6             2     35\n",
      "1             3     52\n",
      "8             4     86\n",
      "10            5    108\n",
      "2             6    153\n",
      "4             7    148\n",
      "0             8    152\n",
      "3             9     98\n",
      "9            10     71\n",
      "7            11     68\n",
      "5            12     29\n"
     ]
    },
    {
     "data": {
      "text/plain": [
       "<matplotlib.axes._subplots.AxesSubplot at 0x7fd906dc6fd0>"
      ]
     },
     "execution_count": 153,
     "metadata": {},
     "output_type": "execute_result"
    },
    {
     "data": {
      "image/png": "[encoded data removed]",
      "text/plain": [
       "<Figure size 432x288 with 1 Axes>"
      ]
     },
     "metadata": {
      "needs_background": "light"
     },
     "output_type": "display_data"
    }
   ],
   "source": [
    "import seaborn as sns \n",
    "import pandas as pd\n",
    "\n",
    "# taking dictionary x & output key & values as separate lists, sum_dice & count. \n",
    "sum_dice = list(x.keys())\n",
    "count = list(x.values())\n",
    "\n",
    "y = {\"Sum of Dice\" : sum_dice, \"Count\" : count}\n",
    "df =pd.DataFrame(y)\n",
    "print(df.sort_values(by=\"Sum of Dice\"))\n",
    "\n",
    "sns.barplot(x = \"Sum of Dice\", y = \"Count\", data = df)"
   ]
  },
  {
   "cell_type": "markdown",
   "metadata": {},
   "source": [
    "From the Pandas DataFrame & Seaborn bar plot above, the distribution shape of the sum of the dice values (k no. dice) for n number of rolls is very distinctive. \n",
    "\n",
    "The distribution mostly peaks at the sum value of 7 and then tapers off to the values at either end i.e minimum dice sum value = 2 (rolling 2no. 1's) & maximum sum value = 12 (rolling 2no. 6's)\n",
    "\n",
    "The shape of the distribution is the due to probabilities of rolling one than more dice, it is more likely when using 2 dice to roll a 7 rather than a 2 or a 12. \n",
    "\n",
    "There are 6 ways to roll a 7 using 2 dice i.e (1 & 6), (2 & 5), (3 & 4), (4 & 3), (5 & 2), (6 & 1).\n",
    "\n",
    "When rolling 2 dice there are a total of 36 combinations or permutations. \n",
    "\n",
    "Probability of rolling a 7 - 16.667%\n",
    "\n",
    "$$\\frac{6}{36} = 0.16667$$\n",
    "\n",
    "Probability of rolling a 2 - 2.778%\n",
    "\n",
    "$$\\frac{1}{36} = 0.2778$$\n",
    "\n",
    "Increasing the number of dice rolled & increasing the number of times the dice are rolled accentuates the bell curve distribution shape, as it increases the range of the dice sum values (2 dice range from 2 to 12, 3 dice range from 3 to 18, 4 dice range from 4 to 24 etc). \n",
    "\n",
    "If you roll only 1 dice a 1000 times you will find a uniform distribution between the dice values i.e the probability of rolling a 1 or a 6 on a single dice is the same (2.778%)\n",
    "\n",
    "| One Dice / Rolled 1000x | Five Dice / Rolled 10000x |\n",
    "|-------------------------|---------------------------|\n",
    "|![one dice]()|![five dice]()|\n",
    "\n",
    "\n",
    "**Roll 2-Dice Probability Table** [3]\n",
    "\n",
    "|ROLL A…|PROBABILITY|\n",
    "|------------|----------------|\n",
    "|2|1/36 (2.778%)|\n",
    "|3|2/36 (5.556%)|\n",
    "|4|3/36 (8.333%)|\n",
    "|5|4/36 (11.111%)|\n",
    "|6|5/36 (13.889%)|\n",
    "|7|6/36 (16.667%)|\n",
    "|8|5/36 (13.889%)|\n",
    "|9|4/36 (11.111%)|\n",
    "|10|3/36 (8.333%)|\n",
    "|11|2/36 (5.556%)|\n",
    "|12|1/36 (2.778%)|\n"
   ]
  },
  {
   "cell_type": "markdown",
   "metadata": {},
   "source": [
    "## 2.4 References for Task 2\n",
    "\n",
    "[1] [stackoverflow.com, Mathplotlib Bar Chart using Dictionary](https://stackoverflow.com/questions/16010869/plot-a-bar-using-matplotlib-using-a-dictionary#answer-53432195:~:text=suggest%3A-,import%20matplotlib.pyplot%20as%20plt,plt.show())\n",
    "\n",
    "[2] [sharpsightlabs.com, Seaborn Barplot](https://www.sharpsightlabs.com/blog/seaborn-barplot/)\n",
    "\n",
    "[3] [statisticshowto, Dice Roll Probability](https://www.statisticshowto.com/probability-and-statistics/probability-main-index/dice-roll-probability-6-sided-dice/)"
   ]
  },
  {
   "cell_type": "code",
   "execution_count": null,
   "metadata": {},
   "outputs": [],
   "source": []
  }
 ],
 "metadata": {
  "kernelspec": {
   "display_name": "Python 3",
   "language": "python",
   "name": "python3"
  },
  "language_info": {
   "codemirror_mode": {
    "name": "ipython",
    "version": 3
   },
   "file_extension": ".py",
   "mimetype": "text/x-python",
   "name": "python",
   "nbconvert_exporter": "python",
   "pygments_lexer": "ipython3",
   "version": "3.8.3"
  }
 },
 "nbformat": 4,
 "nbformat_minor": 4
}
